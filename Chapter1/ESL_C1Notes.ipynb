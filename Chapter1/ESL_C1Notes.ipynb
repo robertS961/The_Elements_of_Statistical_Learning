{
  "nbformat": 4,
  "nbformat_minor": 0,
  "metadata": {
    "colab": {
      "provenance": []
    },
    "kernelspec": {
      "name": "python3",
      "display_name": "Python 3"
    },
    "language_info": {
      "name": "python"
    }
  },
  "cells": [
    {
      "cell_type": "markdown",
      "source": [
        "# Chapter 1 Introduction\n",
        "\n",
        "- This book is about learning from data\n",
        "- We learn from that data by making predictions based off its features\n",
        "- We have a training set of data which we wish to develop a model that predicts our features accurately\n",
        "- Most of this book is about supervised learning. This is where we have an outcome variable. Compared to unsupervised learning where we lack an outcome variable"
      ],
      "metadata": {
        "id": "FjsGwUrRRZFV"
      }
    },
    {
      "cell_type": "markdown",
      "source": [
        "## Exmaples\n",
        "\n",
        "1. Spam - want to predict wether a given email is spam or not.\n",
        "1. Prostate Cancer - wish to predict based on several measurements if the patient is at a high risk for prostate cancer.\n",
        "1. Identifying Hand Written Numbers - wish to have a computer analyze it and sort the mail for shipping based on zip code.\n",
        "1. DNA for Cancer - evaluating DNA to decide if the patient has a high risk for cancer in the future.\n"
      ],
      "metadata": {
        "id": "IYUJD2YySA8c"
      }
    },
    {
      "cell_type": "markdown",
      "source": [
        "## Conclusion\n",
        "\n",
        "- Book is useful for anyone who has a foundational knowledge of statistics and wants to learn the most prevalant methods for a wide variety of topics.\n",
        "\n",
        "- Book ramps up gradually starting with basic, building blocks of regression/classification then gets in more advanced topics in both.\n",
        "\n",
        "- I hope all the readers enjoy our journey."
      ],
      "metadata": {
        "id": "eui4fokdUZIt"
      }
    },
    {
      "cell_type": "code",
      "source": [],
      "metadata": {
        "id": "A3mDZvCDV0C6"
      },
      "execution_count": null,
      "outputs": []
    }
  ]
}